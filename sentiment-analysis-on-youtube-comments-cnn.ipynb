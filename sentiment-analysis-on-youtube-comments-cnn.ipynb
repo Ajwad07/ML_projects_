{
 "cells": [
  {
   "cell_type": "markdown",
   "id": "b5e01397",
   "metadata": {
    "_cell_guid": "c396aeb8-5b09-4070-a5d8-fd4f94ef6c84",
    "_uuid": "d4d792e8-3301-4f49-9f3e-62e8cad0f6ce",
    "collapsed": false,
    "jupyter": {
     "outputs_hidden": false
    },
    "papermill": {
     "duration": 0.002978,
     "end_time": "2025-03-01T08:05:13.298412",
     "exception": false,
     "start_time": "2025-03-01T08:05:13.295434",
     "status": "completed"
    },
    "tags": []
   },
   "source": [
    "\n",
    "\n",
    "\"\"\"\n",
    "Text-Based Sentiment Analysis using CNN (Adaptation)\n",
    "------------------------------------------------------------\n",
    "This script performs sentiment analysis using CNN on YouTube comments dataset.\n",
    "1. Load dataset from the provided notebook file\n",
    "2. Preprocess text data\n",
    "3. Tokenize and pad sequences\n",
    "4. Split data into training and testing sets\n",
    "5. Build and compile a CNN model\n",
    "6. Train the model with validation\n",
    "7. Evaluate model performance\n",
    "8. Test on the structured test set\n",
    "\"\"\"\n"
   ]
  },
  {
   "cell_type": "code",
   "execution_count": 1,
   "id": "f6b77628",
   "metadata": {
    "execution": {
     "iopub.execute_input": "2025-03-01T08:05:13.304379Z",
     "iopub.status.busy": "2025-03-01T08:05:13.304160Z",
     "iopub.status.idle": "2025-03-01T08:05:26.780333Z",
     "shell.execute_reply": "2025-03-01T08:05:26.779242Z"
    },
    "papermill": {
     "duration": 13.480547,
     "end_time": "2025-03-01T08:05:26.781704",
     "exception": false,
     "start_time": "2025-03-01T08:05:13.301157",
     "status": "completed"
    },
    "tags": []
   },
   "outputs": [
    {
     "name": "stdout",
     "output_type": "stream",
     "text": [
      "[nltk_data] Downloading package stopwords to /usr/share/nltk_data...\n",
      "[nltk_data]   Unzipping corpora/stopwords.zip.\n"
     ]
    }
   ],
   "source": [
    "\n",
    "\n",
    "import numpy as np\n",
    "import pandas as pd\n",
    "import tensorflow as tf\n",
    "from sklearn.model_selection import train_test_split\n",
    "from tensorflow.keras.preprocessing.text import Tokenizer\n",
    "from tensorflow.keras.preprocessing.sequence import pad_sequences\n",
    "from tensorflow.keras.models import Sequential\n",
    "from tensorflow.keras.layers import Embedding, Conv1D, GlobalMaxPooling1D, Dense, Dropout\n",
    "import re\n",
    "import nltk\n",
    "from nltk.corpus import stopwords\n",
    "nltk.download('stopwords')\n",
    "stop_words = set(stopwords.words('english'))"
   ]
  },
  {
   "cell_type": "markdown",
   "id": "dcd796fd",
   "metadata": {
    "papermill": {
     "duration": 0.0024,
     "end_time": "2025-03-01T08:05:26.786886",
     "exception": false,
     "start_time": "2025-03-01T08:05:26.784486",
     "status": "completed"
    },
    "tags": []
   },
   "source": [
    "# ----------------------------\n",
    "# 1. Load and Preprocess Data\n",
    "# ----------------------------"
   ]
  },
  {
   "cell_type": "code",
   "execution_count": 2,
   "id": "4931676a",
   "metadata": {
    "execution": {
     "iopub.execute_input": "2025-03-01T08:05:26.792803Z",
     "iopub.status.busy": "2025-03-01T08:05:26.792346Z",
     "iopub.status.idle": "2025-03-01T08:05:27.892070Z",
     "shell.execute_reply": "2025-03-01T08:05:27.891157Z"
    },
    "papermill": {
     "duration": 1.104466,
     "end_time": "2025-03-01T08:05:27.893782",
     "exception": false,
     "start_time": "2025-03-01T08:05:26.789316",
     "status": "completed"
    },
    "tags": []
   },
   "outputs": [
    {
     "name": "stderr",
     "output_type": "stream",
     "text": [
      "<ipython-input-2-c5d56d6603d8>:6: FutureWarning: Downcasting behavior in `replace` is deprecated and will be removed in a future version. To retain the old behavior, explicitly call `result.infer_objects(copy=False)`. To opt-in to the future behavior, set `pd.set_option('future.no_silent_downcasting', True)`\n",
      "  df['Sentiment'] = df['Sentiment'].replace({'negative': 0, 'neutral': 1, 'positive': 2})\n"
     ]
    }
   ],
   "source": [
    "# Load dataset from the provided notebook file\n",
    "dataset_path = '/kaggle/input/youtube-comments-dataset/YoutubeCommentsDataSet.csv'\n",
    "df = pd.read_csv(dataset_path)  # Adjust if the file format is different\n",
    "\n",
    "# Replace sentiment labels with numerical values\n",
    "df['Sentiment'] = df['Sentiment'].replace({'negative': 0, 'neutral': 1, 'positive': 2})\n",
    "\n",
    "# Extract text and labels (assuming 'comment' and 'sentiment' columns exist)\n",
    "def clean_text(text):\n",
    "    text = text.lower()\n",
    "    text = re.sub(r'[^a-zA-Z0-9\\s]', '', text)  # Remove special characters\n",
    "    text = re.sub(r'\\s+', ' ', text).strip()  # Remove extra spaces\n",
    "    text = ' '.join([word for word in text.split() if word not in stop_words])  # Remove stop words\n",
    "    return text\n",
    "\n",
    "df['cleaned_comment'] = df['Comment'].astype(str).apply(clean_text)\n",
    "texts = df['cleaned_comment'].tolist()\n",
    "labels = df['Sentiment'].astype(int).tolist()\n",
    "# Tokenization\n",
    "max_vocab_size = 10000\n",
    "max_seq_length = 100\n",
    "\n",
    "tokenizer = Tokenizer(num_words=max_vocab_size, oov_token='<OOV>')\n",
    "tokenizer.fit_on_texts(texts)\n",
    "sequences = tokenizer.texts_to_sequences(texts)\n",
    "\n",
    "# Padding\n",
    "padded_sequences = pad_sequences(sequences, maxlen=max_seq_length, padding='post', truncating='post')\n",
    "\n",
    "# Convert labels to NumPy array\n",
    "labels = np.array(labels)"
   ]
  },
  {
   "cell_type": "markdown",
   "id": "dde786b3",
   "metadata": {
    "papermill": {
     "duration": 0.002474,
     "end_time": "2025-03-01T08:05:27.899313",
     "exception": false,
     "start_time": "2025-03-01T08:05:27.896839",
     "status": "completed"
    },
    "tags": []
   },
   "source": [
    "# ----------------------------\n",
    "# 2. Split Data into Train and Test Sets\n",
    "# ----------------------------"
   ]
  },
  {
   "cell_type": "code",
   "execution_count": 3,
   "id": "b58008de",
   "metadata": {
    "execution": {
     "iopub.execute_input": "2025-03-01T08:05:27.905520Z",
     "iopub.status.busy": "2025-03-01T08:05:27.905280Z",
     "iopub.status.idle": "2025-03-01T08:05:27.924812Z",
     "shell.execute_reply": "2025-03-01T08:05:27.924176Z"
    },
    "papermill": {
     "duration": 0.024216,
     "end_time": "2025-03-01T08:05:27.926130",
     "exception": false,
     "start_time": "2025-03-01T08:05:27.901914",
     "status": "completed"
    },
    "tags": []
   },
   "outputs": [],
   "source": [
    "X_train, X_test, y_train, y_test = train_test_split(padded_sequences, labels, test_size=0.2, random_state=42, stratify=labels)"
   ]
  },
  {
   "cell_type": "markdown",
   "id": "32e753e3",
   "metadata": {
    "papermill": {
     "duration": 0.002425,
     "end_time": "2025-03-01T08:05:27.931401",
     "exception": false,
     "start_time": "2025-03-01T08:05:27.928976",
     "status": "completed"
    },
    "tags": []
   },
   "source": [
    "\n",
    "# ----------------------------\n",
    "# 3. Build CNN Model\n",
    "# ----------------------------"
   ]
  },
  {
   "cell_type": "code",
   "execution_count": 4,
   "id": "0aaf0d09",
   "metadata": {
    "execution": {
     "iopub.execute_input": "2025-03-01T08:05:27.937761Z",
     "iopub.status.busy": "2025-03-01T08:05:27.937522Z",
     "iopub.status.idle": "2025-03-01T08:05:28.893713Z",
     "shell.execute_reply": "2025-03-01T08:05:28.893002Z"
    },
    "papermill": {
     "duration": 0.960794,
     "end_time": "2025-03-01T08:05:28.894874",
     "exception": false,
     "start_time": "2025-03-01T08:05:27.934080",
     "status": "completed"
    },
    "tags": []
   },
   "outputs": [
    {
     "name": "stderr",
     "output_type": "stream",
     "text": [
      "/usr/local/lib/python3.10/dist-packages/keras/src/layers/core/embedding.py:90: UserWarning: Argument `input_length` is deprecated. Just remove it.\n",
      "  warnings.warn(\n"
     ]
    },
    {
     "data": {
      "text/html": [
       "<pre style=\"white-space:pre;overflow-x:auto;line-height:normal;font-family:Menlo,'DejaVu Sans Mono',consolas,'Courier New',monospace\"><span style=\"font-weight: bold\">Model: \"sequential\"</span>\n",
       "</pre>\n"
      ],
      "text/plain": [
       "\u001b[1mModel: \"sequential\"\u001b[0m\n"
      ]
     },
     "metadata": {},
     "output_type": "display_data"
    },
    {
     "data": {
      "text/html": [
       "<pre style=\"white-space:pre;overflow-x:auto;line-height:normal;font-family:Menlo,'DejaVu Sans Mono',consolas,'Courier New',monospace\">┏━━━━━━━━━━━━━━━━━━━━━━━━━━━━━━━━━━━━━━┳━━━━━━━━━━━━━━━━━━━━━━━━━━━━━┳━━━━━━━━━━━━━━━━━┓\n",
       "┃<span style=\"font-weight: bold\"> Layer (type)                         </span>┃<span style=\"font-weight: bold\"> Output Shape                </span>┃<span style=\"font-weight: bold\">         Param # </span>┃\n",
       "┡━━━━━━━━━━━━━━━━━━━━━━━━━━━━━━━━━━━━━━╇━━━━━━━━━━━━━━━━━━━━━━━━━━━━━╇━━━━━━━━━━━━━━━━━┩\n",
       "│ embedding (<span style=\"color: #0087ff; text-decoration-color: #0087ff\">Embedding</span>)                │ ?                           │     <span style=\"color: #00af00; text-decoration-color: #00af00\">0</span> (unbuilt) │\n",
       "├──────────────────────────────────────┼─────────────────────────────┼─────────────────┤\n",
       "│ conv1d (<span style=\"color: #0087ff; text-decoration-color: #0087ff\">Conv1D</span>)                      │ ?                           │     <span style=\"color: #00af00; text-decoration-color: #00af00\">0</span> (unbuilt) │\n",
       "├──────────────────────────────────────┼─────────────────────────────┼─────────────────┤\n",
       "│ global_max_pooling1d                 │ ?                           │     <span style=\"color: #00af00; text-decoration-color: #00af00\">0</span> (unbuilt) │\n",
       "│ (<span style=\"color: #0087ff; text-decoration-color: #0087ff\">GlobalMaxPooling1D</span>)                 │                             │                 │\n",
       "├──────────────────────────────────────┼─────────────────────────────┼─────────────────┤\n",
       "│ dense (<span style=\"color: #0087ff; text-decoration-color: #0087ff\">Dense</span>)                        │ ?                           │     <span style=\"color: #00af00; text-decoration-color: #00af00\">0</span> (unbuilt) │\n",
       "├──────────────────────────────────────┼─────────────────────────────┼─────────────────┤\n",
       "│ dropout (<span style=\"color: #0087ff; text-decoration-color: #0087ff\">Dropout</span>)                    │ ?                           │     <span style=\"color: #00af00; text-decoration-color: #00af00\">0</span> (unbuilt) │\n",
       "├──────────────────────────────────────┼─────────────────────────────┼─────────────────┤\n",
       "│ dense_1 (<span style=\"color: #0087ff; text-decoration-color: #0087ff\">Dense</span>)                      │ ?                           │     <span style=\"color: #00af00; text-decoration-color: #00af00\">0</span> (unbuilt) │\n",
       "└──────────────────────────────────────┴─────────────────────────────┴─────────────────┘\n",
       "</pre>\n"
      ],
      "text/plain": [
       "┏━━━━━━━━━━━━━━━━━━━━━━━━━━━━━━━━━━━━━━┳━━━━━━━━━━━━━━━━━━━━━━━━━━━━━┳━━━━━━━━━━━━━━━━━┓\n",
       "┃\u001b[1m \u001b[0m\u001b[1mLayer (type)                        \u001b[0m\u001b[1m \u001b[0m┃\u001b[1m \u001b[0m\u001b[1mOutput Shape               \u001b[0m\u001b[1m \u001b[0m┃\u001b[1m \u001b[0m\u001b[1m        Param #\u001b[0m\u001b[1m \u001b[0m┃\n",
       "┡━━━━━━━━━━━━━━━━━━━━━━━━━━━━━━━━━━━━━━╇━━━━━━━━━━━━━━━━━━━━━━━━━━━━━╇━━━━━━━━━━━━━━━━━┩\n",
       "│ embedding (\u001b[38;5;33mEmbedding\u001b[0m)                │ ?                           │     \u001b[38;5;34m0\u001b[0m (unbuilt) │\n",
       "├──────────────────────────────────────┼─────────────────────────────┼─────────────────┤\n",
       "│ conv1d (\u001b[38;5;33mConv1D\u001b[0m)                      │ ?                           │     \u001b[38;5;34m0\u001b[0m (unbuilt) │\n",
       "├──────────────────────────────────────┼─────────────────────────────┼─────────────────┤\n",
       "│ global_max_pooling1d                 │ ?                           │     \u001b[38;5;34m0\u001b[0m (unbuilt) │\n",
       "│ (\u001b[38;5;33mGlobalMaxPooling1D\u001b[0m)                 │                             │                 │\n",
       "├──────────────────────────────────────┼─────────────────────────────┼─────────────────┤\n",
       "│ dense (\u001b[38;5;33mDense\u001b[0m)                        │ ?                           │     \u001b[38;5;34m0\u001b[0m (unbuilt) │\n",
       "├──────────────────────────────────────┼─────────────────────────────┼─────────────────┤\n",
       "│ dropout (\u001b[38;5;33mDropout\u001b[0m)                    │ ?                           │     \u001b[38;5;34m0\u001b[0m (unbuilt) │\n",
       "├──────────────────────────────────────┼─────────────────────────────┼─────────────────┤\n",
       "│ dense_1 (\u001b[38;5;33mDense\u001b[0m)                      │ ?                           │     \u001b[38;5;34m0\u001b[0m (unbuilt) │\n",
       "└──────────────────────────────────────┴─────────────────────────────┴─────────────────┘\n"
      ]
     },
     "metadata": {},
     "output_type": "display_data"
    },
    {
     "data": {
      "text/html": [
       "<pre style=\"white-space:pre;overflow-x:auto;line-height:normal;font-family:Menlo,'DejaVu Sans Mono',consolas,'Courier New',monospace\"><span style=\"font-weight: bold\"> Total params: </span><span style=\"color: #00af00; text-decoration-color: #00af00\">0</span> (0.00 B)\n",
       "</pre>\n"
      ],
      "text/plain": [
       "\u001b[1m Total params: \u001b[0m\u001b[38;5;34m0\u001b[0m (0.00 B)\n"
      ]
     },
     "metadata": {},
     "output_type": "display_data"
    },
    {
     "data": {
      "text/html": [
       "<pre style=\"white-space:pre;overflow-x:auto;line-height:normal;font-family:Menlo,'DejaVu Sans Mono',consolas,'Courier New',monospace\"><span style=\"font-weight: bold\"> Trainable params: </span><span style=\"color: #00af00; text-decoration-color: #00af00\">0</span> (0.00 B)\n",
       "</pre>\n"
      ],
      "text/plain": [
       "\u001b[1m Trainable params: \u001b[0m\u001b[38;5;34m0\u001b[0m (0.00 B)\n"
      ]
     },
     "metadata": {},
     "output_type": "display_data"
    },
    {
     "data": {
      "text/html": [
       "<pre style=\"white-space:pre;overflow-x:auto;line-height:normal;font-family:Menlo,'DejaVu Sans Mono',consolas,'Courier New',monospace\"><span style=\"font-weight: bold\"> Non-trainable params: </span><span style=\"color: #00af00; text-decoration-color: #00af00\">0</span> (0.00 B)\n",
       "</pre>\n"
      ],
      "text/plain": [
       "\u001b[1m Non-trainable params: \u001b[0m\u001b[38;5;34m0\u001b[0m (0.00 B)\n"
      ]
     },
     "metadata": {},
     "output_type": "display_data"
    }
   ],
   "source": [
    "model = Sequential([\n",
    "    Embedding(input_dim=max_vocab_size, output_dim=128, input_length=max_seq_length),\n",
    "    Conv1D(filters=32, kernel_size=4, activation='relu'),\n",
    "    GlobalMaxPooling1D(),\n",
    "    Dense(32, activation='relu'),\n",
    "    Dropout(0.4),\n",
    "    Dense(3, activation='softmax')  # Multi-class classification\n",
    "])\n",
    "# Compile the model\n",
    "model.compile(optimizer='adam', loss='sparse_categorical_crossentropy', metrics=['accuracy'])\n",
    "\n",
    "# Display model summary\n",
    "model.summary()\n"
   ]
  },
  {
   "cell_type": "markdown",
   "id": "05543178",
   "metadata": {
    "papermill": {
     "duration": 0.003051,
     "end_time": "2025-03-01T08:05:28.901373",
     "exception": false,
     "start_time": "2025-03-01T08:05:28.898322",
     "status": "completed"
    },
    "tags": []
   },
   "source": [
    "# ----------------------------\n",
    "# 4. Train the Model with Validation\n",
    "# ----------------------------"
   ]
  },
  {
   "cell_type": "code",
   "execution_count": 5,
   "id": "db41bb86",
   "metadata": {
    "execution": {
     "iopub.execute_input": "2025-03-01T08:05:28.908661Z",
     "iopub.status.busy": "2025-03-01T08:05:28.908436Z",
     "iopub.status.idle": "2025-03-01T08:05:45.891115Z",
     "shell.execute_reply": "2025-03-01T08:05:45.890415Z"
    },
    "papermill": {
     "duration": 16.987869,
     "end_time": "2025-03-01T08:05:45.892424",
     "exception": false,
     "start_time": "2025-03-01T08:05:28.904555",
     "status": "completed"
    },
    "tags": []
   },
   "outputs": [
    {
     "name": "stdout",
     "output_type": "stream",
     "text": [
      "Epoch 1/10\n",
      "\u001b[1m461/461\u001b[0m \u001b[32m━━━━━━━━━━━━━━━━━━━━\u001b[0m\u001b[37m\u001b[0m \u001b[1m8s\u001b[0m 7ms/step - accuracy: 0.6487 - loss: 0.8358 - val_accuracy: 0.7178 - val_loss: 0.6287\n",
      "Epoch 2/10\n",
      "\u001b[1m461/461\u001b[0m \u001b[32m━━━━━━━━━━━━━━━━━━━━\u001b[0m\u001b[37m\u001b[0m \u001b[1m1s\u001b[0m 2ms/step - accuracy: 0.7966 - loss: 0.5078 - val_accuracy: 0.7515 - val_loss: 0.5871\n",
      "Epoch 3/10\n",
      "\u001b[1m461/461\u001b[0m \u001b[32m━━━━━━━━━━━━━━━━━━━━\u001b[0m\u001b[37m\u001b[0m \u001b[1m1s\u001b[0m 2ms/step - accuracy: 0.9136 - loss: 0.2630 - val_accuracy: 0.7482 - val_loss: 0.6989\n",
      "Epoch 4/10\n",
      "\u001b[1m461/461\u001b[0m \u001b[32m━━━━━━━━━━━━━━━━━━━━\u001b[0m\u001b[37m\u001b[0m \u001b[1m1s\u001b[0m 2ms/step - accuracy: 0.9647 - loss: 0.1181 - val_accuracy: 0.7363 - val_loss: 0.8750\n",
      "Epoch 5/10\n",
      "\u001b[1m461/461\u001b[0m \u001b[32m━━━━━━━━━━━━━━━━━━━━\u001b[0m\u001b[37m\u001b[0m \u001b[1m1s\u001b[0m 2ms/step - accuracy: 0.9845 - loss: 0.0598 - val_accuracy: 0.7423 - val_loss: 1.0538\n",
      "Epoch 6/10\n",
      "\u001b[1m461/461\u001b[0m \u001b[32m━━━━━━━━━━━━━━━━━━━━\u001b[0m\u001b[37m\u001b[0m \u001b[1m1s\u001b[0m 2ms/step - accuracy: 0.9898 - loss: 0.0382 - val_accuracy: 0.7458 - val_loss: 1.2056\n",
      "Epoch 7/10\n",
      "\u001b[1m461/461\u001b[0m \u001b[32m━━━━━━━━━━━━━━━━━━━━\u001b[0m\u001b[37m\u001b[0m \u001b[1m1s\u001b[0m 2ms/step - accuracy: 0.9924 - loss: 0.0280 - val_accuracy: 0.7471 - val_loss: 1.3242\n",
      "Epoch 8/10\n",
      "\u001b[1m461/461\u001b[0m \u001b[32m━━━━━━━━━━━━━━━━━━━━\u001b[0m\u001b[37m\u001b[0m \u001b[1m1s\u001b[0m 2ms/step - accuracy: 0.9934 - loss: 0.0263 - val_accuracy: 0.7480 - val_loss: 1.4135\n",
      "Epoch 9/10\n",
      "\u001b[1m461/461\u001b[0m \u001b[32m━━━━━━━━━━━━━━━━━━━━\u001b[0m\u001b[37m\u001b[0m \u001b[1m1s\u001b[0m 2ms/step - accuracy: 0.9935 - loss: 0.0214 - val_accuracy: 0.7444 - val_loss: 1.4939\n",
      "Epoch 10/10\n",
      "\u001b[1m461/461\u001b[0m \u001b[32m━━━━━━━━━━━━━━━━━━━━\u001b[0m\u001b[37m\u001b[0m \u001b[1m1s\u001b[0m 2ms/step - accuracy: 0.9933 - loss: 0.0210 - val_accuracy: 0.7363 - val_loss: 1.6098\n"
     ]
    }
   ],
   "source": [
    "history = model.fit(X_train, y_train, epochs=10, batch_size=32, verbose=1, validation_data=(X_test, y_test))"
   ]
  },
  {
   "cell_type": "markdown",
   "id": "4efedc6a",
   "metadata": {
    "papermill": {
     "duration": 0.011621,
     "end_time": "2025-03-01T08:05:45.917300",
     "exception": false,
     "start_time": "2025-03-01T08:05:45.905679",
     "status": "completed"
    },
    "tags": []
   },
   "source": [
    "# ----------------------------\n",
    "# 5. Evaluate the Model on Test Set\n",
    "# ----------------------------"
   ]
  },
  {
   "cell_type": "code",
   "execution_count": 6,
   "id": "f8651f27",
   "metadata": {
    "execution": {
     "iopub.execute_input": "2025-03-01T08:05:45.942451Z",
     "iopub.status.busy": "2025-03-01T08:05:45.942182Z",
     "iopub.status.idle": "2025-03-01T08:05:46.806910Z",
     "shell.execute_reply": "2025-03-01T08:05:46.805840Z"
    },
    "papermill": {
     "duration": 0.879142,
     "end_time": "2025-03-01T08:05:46.808547",
     "exception": false,
     "start_time": "2025-03-01T08:05:45.929405",
     "status": "completed"
    },
    "tags": []
   },
   "outputs": [
    {
     "name": "stdout",
     "output_type": "stream",
     "text": [
      "\u001b[1m116/116\u001b[0m \u001b[32m━━━━━━━━━━━━━━━━━━━━\u001b[0m\u001b[37m\u001b[0m \u001b[1m0s\u001b[0m 1ms/step - accuracy: 0.7421 - loss: 1.5840\n",
      "Test Accuracy: 0.7363\n",
      "\u001b[1m116/116\u001b[0m \u001b[32m━━━━━━━━━━━━━━━━━━━━\u001b[0m\u001b[37m\u001b[0m \u001b[1m1s\u001b[0m 3ms/step\n",
      "Comment: lets not forget that apple pay in 2014 required a ...\n",
      "Actual Sentiment: 2, Predicted Sentiment: 2\n",
      "--------------------------------------------------\n",
      "Comment: here in nz 50 of retailers don’t even have contact...\n",
      "Actual Sentiment: 1, Predicted Sentiment: 2\n",
      "--------------------------------------------------\n",
      "Comment: i will forever acknowledge this channel with the h...\n",
      "Actual Sentiment: 2, Predicted Sentiment: 2\n",
      "--------------------------------------------------\n",
      "Comment: whenever i go to a place that doesn’t take apple p...\n",
      "Actual Sentiment: 1, Predicted Sentiment: 1\n",
      "--------------------------------------------------\n",
      "Comment: apple pay is so convenient secure and easy to use ...\n",
      "Actual Sentiment: 2, Predicted Sentiment: 2\n",
      "--------------------------------------------------\n",
      "Comment: we’ve been hounding my bank to adopt apple pay i u...\n",
      "Actual Sentiment: 2, Predicted Sentiment: 2\n",
      "--------------------------------------------------\n",
      "Comment: we only got apple pay in south africa in 20202021 ...\n",
      "Actual Sentiment: 0, Predicted Sentiment: 2\n",
      "--------------------------------------------------\n",
      "Comment: for now i need both apple pay and the physical cre...\n",
      "Actual Sentiment: 2, Predicted Sentiment: 2\n",
      "--------------------------------------------------\n",
      "Comment: in the united states we have an abundance of retai...\n",
      "Actual Sentiment: 1, Predicted Sentiment: 1\n",
      "--------------------------------------------------\n",
      "Comment: in cambodia we have a universal qr code system we ...\n",
      "Actual Sentiment: 1, Predicted Sentiment: 1\n",
      "--------------------------------------------------\n"
     ]
    }
   ],
   "source": [
    "loss, accuracy = model.evaluate(X_test, y_test, verbose=1)\n",
    "print(f\"Test Accuracy: {accuracy:.4f}\")\n",
    "\n",
    "# Predict on the structured test set\n",
    "y_pred = model.predict(X_test)\n",
    "y_pred = np.argmax(y_pred, axis=1)\n",
    "# Print predictions alongside actual labels\n",
    "for i in range(10):  # Display first 10 test samples\n",
    "    print(f\"Comment: {df.iloc[i]['Comment'][:50]}...\")\n",
    "    print(f\"Actual Sentiment: {y_test[i]}, Predicted Sentiment: {y_pred[i]}\")\n",
    "    print(\"-\" * 50)"
   ]
  },
  {
   "cell_type": "markdown",
   "id": "824f7628",
   "metadata": {
    "papermill": {
     "duration": 0.012234,
     "end_time": "2025-03-01T08:05:46.833821",
     "exception": false,
     "start_time": "2025-03-01T08:05:46.821587",
     "status": "completed"
    },
    "tags": []
   },
   "source": [
    "# ----------------------------\n",
    "# 6. Predict Sentiment for a New Comment\n",
    "# ----------------------------"
   ]
  },
  {
   "cell_type": "code",
   "execution_count": 7,
   "id": "c110cb38",
   "metadata": {
    "execution": {
     "iopub.execute_input": "2025-03-01T08:05:46.858957Z",
     "iopub.status.busy": "2025-03-01T08:05:46.858680Z",
     "iopub.status.idle": "2025-03-01T08:05:47.134942Z",
     "shell.execute_reply": "2025-03-01T08:05:47.134019Z"
    },
    "papermill": {
     "duration": 0.290334,
     "end_time": "2025-03-01T08:05:47.136209",
     "exception": false,
     "start_time": "2025-03-01T08:05:46.845875",
     "status": "completed"
    },
    "tags": []
   },
   "outputs": [
    {
     "name": "stdout",
     "output_type": "stream",
     "text": [
      "\u001b[1m1/1\u001b[0m \u001b[32m━━━━━━━━━━━━━━━━━━━━\u001b[0m\u001b[37m\u001b[0m \u001b[1m0s\u001b[0m 235ms/step\n",
      "Comment: I absolutely love this product! It's cool.\n",
      "Predicted Sentiment: Positive\n"
     ]
    }
   ],
   "source": [
    "\n",
    "def predict_sentiment(comment):\n",
    "    cleaned_comment = clean_text(comment)\n",
    "    sequence = tokenizer.texts_to_sequences([cleaned_comment])\n",
    "    padded_sequence = pad_sequences(sequence, maxlen=max_seq_length, padding='post', truncating='post')\n",
    "    \n",
    "    prediction = model.predict(padded_sequence)\n",
    "    sentiment_class = np.argmax(prediction)\n",
    "    \n",
    "    sentiment_map = {0: 'Negative', 1: 'Neutral', 2: 'Positive'}\n",
    "    \n",
    "    print(f\"Comment: {comment}\")\n",
    "    print(f\"Predicted Sentiment: {sentiment_map[sentiment_class]}\")\n",
    "\n",
    "# Example Usage\n",
    "user_comment = \"I absolutely love this product! It's cool.\"\n",
    "predict_sentiment(user_comment)\n"
   ]
  }
 ],
 "metadata": {
  "kaggle": {
   "accelerator": "nvidiaTeslaT4",
   "dataSources": [
    {
     "datasetId": 6560918,
     "sourceId": 10599713,
     "sourceType": "datasetVersion"
    }
   ],
   "dockerImageVersionId": 30839,
   "isGpuEnabled": true,
   "isInternetEnabled": true,
   "language": "python",
   "sourceType": "notebook"
  },
  "kernelspec": {
   "display_name": "Python 3",
   "language": "python",
   "name": "python3"
  },
  "language_info": {
   "codemirror_mode": {
    "name": "ipython",
    "version": 3
   },
   "file_extension": ".py",
   "mimetype": "text/x-python",
   "name": "python",
   "nbconvert_exporter": "python",
   "pygments_lexer": "ipython3",
   "version": "3.10.12"
  },
  "papermill": {
   "default_parameters": {},
   "duration": 38.74276,
   "end_time": "2025-03-01T08:05:49.516320",
   "environment_variables": {},
   "exception": null,
   "input_path": "__notebook__.ipynb",
   "output_path": "__notebook__.ipynb",
   "parameters": {},
   "start_time": "2025-03-01T08:05:10.773560",
   "version": "2.6.0"
  }
 },
 "nbformat": 4,
 "nbformat_minor": 5
}
